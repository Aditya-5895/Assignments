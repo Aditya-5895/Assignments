{
 "cells": [
  {
   "cell_type": "markdown",
   "metadata": {},
   "source": [
    "# Q 1"
   ]
  },
  {
   "cell_type": "code",
   "execution_count": 1,
   "metadata": {},
   "outputs": [
    {
     "data": {
      "text/plain": [
       "matrix([[ 1,  1,  1],\n",
       "        [ 4,  2,  1],\n",
       "        [ 9,  3,  1],\n",
       "        [16,  4,  1]], dtype=int32)"
      ]
     },
     "execution_count": 1,
     "metadata": {},
     "output_type": "execute_result"
    }
   ],
   "source": [
    "import numpy as np\n",
    "def Vandermonde(l, n , increasing = False):\n",
    "    x = np.array(l)\n",
    "    a = np.mat(np.column_stack([x**(n-i-1) for i in range(n)]))\n",
    "    if increasing ==True:\n",
    "        return np.flip(a, axis=1)\n",
    "    return a\n",
    "Vandermonde([1,2,3,4],3)"
   ]
  },
  {
   "cell_type": "code",
   "execution_count": 2,
   "metadata": {},
   "outputs": [
    {
     "data": {
      "text/plain": [
       "matrix([[ 1,  1,  1],\n",
       "        [ 1,  2,  4],\n",
       "        [ 1,  3,  9],\n",
       "        [ 1,  4, 16]], dtype=int32)"
      ]
     },
     "execution_count": 2,
     "metadata": {},
     "output_type": "execute_result"
    }
   ],
   "source": [
    "Vandermonde([1,2,3,4],3, increasing = True)"
   ]
  },
  {
   "cell_type": "markdown",
   "metadata": {},
   "source": [
    "# Q 2"
   ]
  },
  {
   "cell_type": "code",
   "execution_count": 3,
   "metadata": {},
   "outputs": [
    {
     "name": "stdout",
     "output_type": "stream",
     "text": [
      "Enter array Values : 3 5 7 2 8 10 11 65 72 81 99 100 150\n",
      "Enter Window Size : 3\n",
      "[5.0, 4.666666666666667, 5.666666666666667, 6.666666666666667, 9.666666666666666, 28.666666666666668, 49.333333333333336, 72.66666666666667, 84.0, 93.33333333333333, 116.33333333333333]\n"
     ]
    }
   ],
   "source": [
    "def moving_avg(l,k):\n",
    "    return [sum(l[i:i+k])/k for i in range(len(l)-k+1)]\n",
    "values = list(map(int,input(\"Enter array Values : \").split()))\n",
    "k = int(input(\"Enter Window Size : \"))\n",
    "print(moving_avg(values,k))"
   ]
  }
 ],
 "metadata": {
  "kernelspec": {
   "display_name": "Python 3",
   "language": "python",
   "name": "python3"
  },
  "language_info": {
   "codemirror_mode": {
    "name": "ipython",
    "version": 3
   },
   "file_extension": ".py",
   "mimetype": "text/x-python",
   "name": "python",
   "nbconvert_exporter": "python",
   "pygments_lexer": "ipython3",
   "version": "3.7.6"
  }
 },
 "nbformat": 4,
 "nbformat_minor": 4
}
