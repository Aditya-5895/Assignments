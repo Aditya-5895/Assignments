{
 "cells": [
  {
   "cell_type": "markdown",
   "metadata": {},
   "source": [
    "# Q 1.1\n",
    "## Find Area of triangle (using class)"
   ]
  },
  {
   "cell_type": "code",
   "execution_count": 1,
   "metadata": {},
   "outputs": [
    {
     "name": "stdout",
     "output_type": "stream",
     "text": [
      "6.0\n"
     ]
    }
   ],
   "source": [
    "class Triangle:\n",
    "    def __init__(self,side1,side2,side3):\n",
    "        self.a=side1\n",
    "        self.b=side2\n",
    "        self.c=side3\n",
    "    def area(self):\n",
    "        if self.a+self.b+self.c < 2*max(self.a,self.b,self.c):\n",
    "            return \"Triange cannot be possible\"\n",
    "        else:\n",
    "            self.semi_perimeter=(self.a+self.b+self.c)/2\n",
    "            return (self.semi_perimeter*(self.semi_perimeter-self.a)*(self.semi_perimeter - self.b)*(self.semi_perimeter-self.c))** 0.5\n",
    "Adi=Triangle(3,4,5)\n",
    "print(Adi.area())"
   ]
  },
  {
   "cell_type": "markdown",
   "metadata": {},
   "source": [
    "# Q 1.2\n",
    "## Write a function filter_long_words() that takes a list of words and an integer n and returns the list of words that are longer than n."
   ]
  },
  {
   "cell_type": "code",
   "execution_count": 2,
   "metadata": {},
   "outputs": [
    {
     "data": {
      "text/plain": [
       "['Aditya', 'jhdbv', 'asdf']"
      ]
     },
     "execution_count": 2,
     "metadata": {},
     "output_type": "execute_result"
    }
   ],
   "source": [
    "def filter_long_words(words,n):\n",
    "    return [i for i in words if len(i)>n]\n",
    "l=[\"Aditya\",\"jhdbv\",\"as\",\"asd\",\"asdf\"]\n",
    "filter_long_words(l,3)"
   ]
  },
  {
   "cell_type": "markdown",
   "metadata": {},
   "source": [
    "# Q 2.1\n",
    "## Write a Python program using function concept that maps list of words into a list of integers representing the lengths of the corresponding words."
   ]
  },
  {
   "cell_type": "code",
   "execution_count": 3,
   "metadata": {},
   "outputs": [
    {
     "name": "stdout",
     "output_type": "stream",
     "text": [
      "[2, 3, 4]\n"
     ]
    }
   ],
   "source": [
    "def lenth_of_word(lst):\n",
    "    return list(map(len,lst))\n",
    "lst=['ab','cde','erty']\n",
    "print(lenth_of_word(lst))"
   ]
  },
  {
   "cell_type": "markdown",
   "metadata": {},
   "source": [
    "# Q 2.2\n",
    "## Write a Python function which takes a character (i.e. a string of length 1) and returns True if it is a vowel, False otherwise."
   ]
  },
  {
   "cell_type": "code",
   "execution_count": 4,
   "metadata": {},
   "outputs": [
    {
     "name": "stdout",
     "output_type": "stream",
     "text": [
      "False\n",
      "True\n"
     ]
    }
   ],
   "source": [
    "def check_vowel(x):\n",
    "    return x in [\"a\",\"e\",\"i\",\"o\",\"u\"]\n",
    "print(check_vowel(\"d\"))\n",
    "print(check_vowel(\"i\"))"
   ]
  }
 ],
 "metadata": {
  "kernelspec": {
   "display_name": "Python 3",
   "language": "python",
   "name": "python3"
  },
  "language_info": {
   "codemirror_mode": {
    "name": "ipython",
    "version": 3
   },
   "file_extension": ".py",
   "mimetype": "text/x-python",
   "name": "python",
   "nbconvert_exporter": "python",
   "pygments_lexer": "ipython3",
   "version": "3.7.6"
  }
 },
 "nbformat": 4,
 "nbformat_minor": 4
}
